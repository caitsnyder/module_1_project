{
 "cells": [
  {
   "cell_type": "markdown",
   "metadata": {},
   "source": [
    "## Final Project Submission\n",
    "\n",
    "Please fill out:\n",
    "* Student name: Caitlin Snyder\n",
    "* Student pace: Self-paced\n",
    "* Scheduled project review date/time: TBD\n",
    "* Instructor name: Jeff Herman\n",
    "* Blog post URL: https://caitlinsnyder.medium.com/exploring-movies-ff8b2d470226\n"
   ]
  },
  {
   "cell_type": "markdown",
   "metadata": {},
   "source": [
    "*Overview*\n",
    "\n",
    "Microsoft sees all the big companies creating original video content, and they want to get in on the fun. \n",
    "\n",
    "They have decided to create a new movie studio, but the problem is they don’t know anything about creating movies. \n",
    "\n",
    "They have hired you to help them better understand the movie industry. \n",
    "\n",
    "Your team is charged with doing data analysis and creating a presentation that explores what type of films are currently doing the best at the box office. \n",
    "\n",
    "You must then translate those findings into actionable insights that the CEO can use when deciding what type of films they should be creating.\n",
    "\n"
   ]
  },
  {
   "cell_type": "markdown",
   "metadata": {},
   "source": [
    "*Requirements:*\n",
    "* Your project contains at least 4 meaningful data visualizations, with corresponding interpretations. All visualizations are well labeled with axes labels, a title, and a legend (when appropriate)\n",
    "\n",
    "\n",
    "* You pose at least 3 meaningful questions and answer them through EDA. These questions should be well labeled and easy to identify inside the notebook.\n",
    "\n",
    "\n",
    "* Your notebook should contain 1 - 2 paragraphs briefly explaining your approach to this project.\n"
   ]
  },
  {
   "cell_type": "markdown",
   "metadata": {},
   "source": [
    "_Questions to consider:_\n",
    "* \"How did you pick the question(s) that you did?\"\n",
    "* \"Why are these questions important from a business perspective?\"\n",
    "* \"How did you decide on the data cleaning options you performed?\"\n",
    "* \"Why did you choose a given method or library?\"\n",
    "* \"Why did you select those visualizations and what did you learn from each of them?\"\n",
    "* \"Why did you pick those features as predictors?\"\n",
    "* \"How would you interpret the results?\"\n",
    "* \"How confident are you in the predictive quality of the results?\"\n",
    "* \"What are some of the things that could cause the results to be wrong?\""
   ]
  },
  {
   "cell_type": "markdown",
   "metadata": {},
   "source": [
    "## Approach\n"
   ]
  },
  {
   "cell_type": "markdown",
   "metadata": {},
   "source": [
    "In reflecting on the questions that might be of interest to this client, I considered their likely motivation: profit (as opposed to, say, contributing to the post-modern cinematic arts in an understated but influential way). What are some of the areas that might inform how the client begins developing content and soliciting involvement with a view toward maximum profitability? \n",
    "\n",
    "I thought it might be interesting to consider how genre singularity and runtime impacted profitability--this might inform what kind of scripts the client solicits. It also seemed important to consider the names attached to productions (specifically directors), so that the client would know which influential and respected leaders in the field were worth engaging with.\n"
   ]
  },
  {
   "cell_type": "markdown",
   "metadata": {},
   "source": [
    "## Selected Questions\n",
    "1) Do multi-genre movies earn more profit on average than single-genre movies?\n",
    "\n",
    "2) Does profit vary by runtime and audience type (domestic/foreign)?\n",
    "\n",
    "3) How do the 10 highest profit movies compare in terms of their relationship between rating and profit? \n"
   ]
  },
  {
   "cell_type": "markdown",
   "metadata": {},
   "source": [
    "## Data Cleaning"
   ]
  },
  {
   "cell_type": "markdown",
   "metadata": {},
   "source": [
    "### Read-in data"
   ]
  },
  {
   "cell_type": "code",
   "execution_count": 2,
   "metadata": {},
   "outputs": [],
   "source": [
    "import pandas as pd\n",
    "import numpy as np\n",
    "import matplotlib.pyplot as plt\n",
    "%matplotlib inline\n",
    "pd.options.mode.chained_assignment = None"
   ]
  },
  {
   "cell_type": "code",
   "execution_count": 3,
   "metadata": {},
   "outputs": [],
   "source": [
    "dfs = {}\n",
    "\n",
    "files = {    \n",
    "    'imdb_title_ratings': 'imdb.title.ratings.csv',\n",
    "    'imdb_title_akas': 'imdb.title.akas.csv',\n",
    "    'imdb_people': 'imdb.name.basics.csv',\n",
    "    'imdb_title_basics': 'imdb.title.basics.csv',\n",
    "    'imdb_title_crew': 'imdb.title.crew.csv',\n",
    "    'imdb_title_principals': 'imdb.title.principals.csv',\n",
    "    'rt_movie_info': 'rt.movie_info.tsv',\n",
    "    'rt_reviews': 'rt.reviews.tsv',\n",
    "    'bom_movie_gross': 'bom.movie_gross.csv',   \n",
    "    'tmdb_movies': 'tmdb.movies.csv',\n",
    "    'tn_movie_budgets': 'tn.movie_budgets.csv',\n",
    "}\n",
    "\n",
    "for k, v in files.items():\n",
    "    if v.endswith('tsv'):\n",
    "        dfs[k] = pd.read_csv(f'zippedData/{v}', sep='\\t', encoding= 'unicode_escape') \n",
    "    elif v.endswith('csv'):\n",
    "        dfs[k] = pd.read_csv(f'zippedData/{v}') \n"
   ]
  },
  {
   "cell_type": "markdown",
   "metadata": {},
   "source": [
    "### Preview data"
   ]
  },
  {
   "cell_type": "code",
   "execution_count": 4,
   "metadata": {
    "scrolled": true
   },
   "outputs": [
    {
     "name": "stdout",
     "output_type": "stream",
     "text": [
      "\n",
      "\n",
      "Dataframe imdb_title_ratings:\n",
      "\n",
      "\n",
      "Data types:\n",
      "\n",
      "tconst            object\n",
      "averagerating    float64\n",
      "numvotes           int64\n",
      "dtype: object\n",
      "\n",
      "Descriptive stats:\n",
      "\n",
      "       averagerating      numvotes\n",
      "count   73856.000000  7.385600e+04\n",
      "mean        6.332729  3.523662e+03\n",
      "std         1.474978  3.029402e+04\n",
      "min         1.000000  5.000000e+00\n",
      "25%         5.500000  1.400000e+01\n",
      "50%         6.500000  4.900000e+01\n",
      "75%         7.400000  2.820000e+02\n",
      "max        10.000000  1.841066e+06\n",
      "\n",
      "Missing values:\n",
      "\n",
      "tconst           0\n",
      "averagerating    0\n",
      "numvotes         0\n",
      "dtype: int64\n",
      "\n",
      "*******************\n",
      "\n",
      "\n",
      "Dataframe imdb_title_akas:\n",
      "\n",
      "\n",
      "Data types:\n",
      "\n",
      "title_id              object\n",
      "ordering               int64\n",
      "title                 object\n",
      "region                object\n",
      "language              object\n",
      "types                 object\n",
      "attributes            object\n",
      "is_original_title    float64\n",
      "dtype: object\n",
      "\n",
      "Descriptive stats:\n",
      "\n",
      "            ordering  is_original_title\n",
      "count  331703.000000      331678.000000\n",
      "mean        5.125872           0.134769\n",
      "std         6.706664           0.341477\n",
      "min         1.000000           0.000000\n",
      "25%         1.000000           0.000000\n",
      "50%         2.000000           0.000000\n",
      "75%         6.000000           0.000000\n",
      "max        61.000000           1.000000\n",
      "\n",
      "Missing values:\n",
      "\n",
      "title_id                  0\n",
      "ordering                  0\n",
      "title                     0\n",
      "region                53293\n",
      "language             289988\n",
      "types                163256\n",
      "attributes           316778\n",
      "is_original_title        25\n",
      "dtype: int64\n",
      "\n",
      "*******************\n",
      "\n",
      "\n",
      "Dataframe imdb_people:\n",
      "\n",
      "\n",
      "Data types:\n",
      "\n",
      "nconst                 object\n",
      "primary_name           object\n",
      "birth_year            float64\n",
      "death_year            float64\n",
      "primary_profession     object\n",
      "known_for_titles       object\n",
      "dtype: object\n",
      "\n",
      "Descriptive stats:\n",
      "\n",
      "         birth_year   death_year\n",
      "count  82736.000000  6783.000000\n",
      "mean    1967.043826  2000.523367\n",
      "std       22.122190    43.951530\n",
      "min        1.000000    17.000000\n",
      "25%     1957.000000  2001.000000\n",
      "50%     1971.000000  2013.000000\n",
      "75%     1981.000000  2016.000000\n",
      "max     2014.000000  2019.000000\n",
      "\n",
      "Missing values:\n",
      "\n",
      "nconst                     0\n",
      "primary_name               0\n",
      "birth_year            523912\n",
      "death_year            599865\n",
      "primary_profession     51340\n",
      "known_for_titles       30204\n",
      "dtype: int64\n",
      "\n",
      "*******************\n",
      "\n",
      "\n",
      "Dataframe imdb_title_basics:\n",
      "\n",
      "\n",
      "Data types:\n",
      "\n",
      "tconst              object\n",
      "primary_title       object\n",
      "original_title      object\n",
      "start_year           int64\n",
      "runtime_minutes    float64\n",
      "genres              object\n",
      "dtype: object\n",
      "\n",
      "Descriptive stats:\n",
      "\n",
      "          start_year  runtime_minutes\n",
      "count  146144.000000    114405.000000\n",
      "mean     2014.621798        86.187247\n",
      "std         2.733583       166.360590\n",
      "min      2010.000000         1.000000\n",
      "25%      2012.000000        70.000000\n",
      "50%      2015.000000        87.000000\n",
      "75%      2017.000000        99.000000\n",
      "max      2115.000000     51420.000000\n",
      "\n",
      "Missing values:\n",
      "\n",
      "tconst                 0\n",
      "primary_title          0\n",
      "original_title        21\n",
      "start_year             0\n",
      "runtime_minutes    31739\n",
      "genres              5408\n",
      "dtype: int64\n",
      "\n",
      "*******************\n",
      "\n",
      "\n",
      "Dataframe imdb_title_crew:\n",
      "\n",
      "\n",
      "Data types:\n",
      "\n",
      "tconst       object\n",
      "directors    object\n",
      "writers      object\n",
      "dtype: object\n",
      "\n",
      "Descriptive stats:\n",
      "\n",
      "           tconst  directors    writers\n",
      "count      146144     140417     110261\n",
      "unique     146144      98525      91920\n",
      "top     tt3733546  nm3266654  nm0000636\n",
      "freq            1         62         80\n",
      "\n",
      "Missing values:\n",
      "\n",
      "tconst           0\n",
      "directors     5727\n",
      "writers      35883\n",
      "dtype: int64\n",
      "\n",
      "*******************\n",
      "\n",
      "\n",
      "Dataframe imdb_title_principals:\n",
      "\n",
      "\n",
      "Data types:\n",
      "\n",
      "tconst        object\n",
      "ordering       int64\n",
      "nconst        object\n",
      "category      object\n",
      "job           object\n",
      "characters    object\n",
      "dtype: object\n",
      "\n",
      "Descriptive stats:\n",
      "\n",
      "           ordering\n",
      "count  1.028186e+06\n",
      "mean   4.739847e+00\n",
      "std    2.747446e+00\n",
      "min    1.000000e+00\n",
      "25%    2.000000e+00\n",
      "50%    4.000000e+00\n",
      "75%    7.000000e+00\n",
      "max    1.000000e+01\n",
      "\n",
      "Missing values:\n",
      "\n",
      "tconst             0\n",
      "ordering           0\n",
      "nconst             0\n",
      "category           0\n",
      "job           850502\n",
      "characters    634826\n",
      "dtype: int64\n",
      "\n",
      "*******************\n",
      "\n",
      "\n",
      "Dataframe rt_movie_info:\n",
      "\n",
      "\n",
      "Data types:\n",
      "\n",
      "id               int64\n",
      "synopsis        object\n",
      "rating          object\n",
      "genre           object\n",
      "director        object\n",
      "writer          object\n",
      "theater_date    object\n",
      "dvd_date        object\n",
      "currency        object\n",
      "box_office      object\n",
      "runtime         object\n",
      "studio          object\n",
      "dtype: object\n",
      "\n",
      "Descriptive stats:\n",
      "\n",
      "                id\n",
      "count  1560.000000\n",
      "mean   1007.303846\n",
      "std     579.164527\n",
      "min       1.000000\n",
      "25%     504.750000\n",
      "50%    1007.500000\n",
      "75%    1503.250000\n",
      "max    2000.000000\n",
      "\n",
      "Missing values:\n",
      "\n",
      "id                 0\n",
      "synopsis          62\n",
      "rating             3\n",
      "genre              8\n",
      "director         199\n",
      "writer           449\n",
      "theater_date     359\n",
      "dvd_date         359\n",
      "currency        1220\n",
      "box_office      1220\n",
      "runtime           30\n",
      "studio          1066\n",
      "dtype: int64\n",
      "\n",
      "*******************\n",
      "\n",
      "\n",
      "Dataframe rt_reviews:\n",
      "\n",
      "\n",
      "Data types:\n",
      "\n",
      "id             int64\n",
      "review        object\n",
      "rating        object\n",
      "fresh         object\n",
      "critic        object\n",
      "top_critic     int64\n",
      "publisher     object\n",
      "date          object\n",
      "dtype: object\n",
      "\n",
      "Descriptive stats:\n",
      "\n",
      "                 id    top_critic\n",
      "count  54432.000000  54432.000000\n",
      "mean    1045.706882      0.240594\n",
      "std      586.657046      0.427448\n",
      "min        3.000000      0.000000\n",
      "25%      542.000000      0.000000\n",
      "50%     1083.000000      0.000000\n",
      "75%     1541.000000      0.000000\n",
      "max     2000.000000      1.000000\n",
      "\n",
      "Missing values:\n",
      "\n",
      "id                0\n",
      "review         5563\n",
      "rating        13517\n",
      "fresh             0\n",
      "critic         2722\n",
      "top_critic        0\n",
      "publisher       309\n",
      "date              0\n",
      "dtype: int64\n",
      "\n",
      "*******************\n",
      "\n",
      "\n",
      "Dataframe bom_movie_gross:\n",
      "\n",
      "\n",
      "Data types:\n",
      "\n",
      "title              object\n",
      "studio             object\n",
      "domestic_gross    float64\n",
      "foreign_gross      object\n",
      "year                int64\n",
      "dtype: object\n",
      "\n",
      "Descriptive stats:\n",
      "\n",
      "       domestic_gross         year\n",
      "count    3.359000e+03  3387.000000\n",
      "mean     2.874585e+07  2013.958075\n",
      "std      6.698250e+07     2.478141\n",
      "min      1.000000e+02  2010.000000\n",
      "25%      1.200000e+05  2012.000000\n",
      "50%      1.400000e+06  2014.000000\n",
      "75%      2.790000e+07  2016.000000\n",
      "max      9.367000e+08  2018.000000\n",
      "\n",
      "Missing values:\n",
      "\n",
      "title                0\n",
      "studio               5\n",
      "domestic_gross      28\n",
      "foreign_gross     1350\n",
      "year                 0\n",
      "dtype: int64\n",
      "\n",
      "*******************\n",
      "\n",
      "\n",
      "Dataframe tmdb_movies:\n",
      "\n",
      "\n",
      "Data types:\n",
      "\n",
      "Unnamed: 0             int64\n",
      "genre_ids             object\n",
      "id                     int64\n",
      "original_language     object\n",
      "original_title        object\n",
      "popularity           float64\n",
      "release_date          object\n",
      "title                 object\n",
      "vote_average         float64\n",
      "vote_count             int64\n",
      "dtype: object\n",
      "\n",
      "Descriptive stats:\n",
      "\n",
      "        Unnamed: 0             id    popularity  vote_average    vote_count\n",
      "count  26517.00000   26517.000000  26517.000000  26517.000000  26517.000000\n",
      "mean   13258.00000  295050.153260      3.130912      5.991281    194.224837\n",
      "std     7654.94288  153661.615648      4.355229      1.852946    960.961095\n",
      "min        0.00000      27.000000      0.600000      0.000000      1.000000\n",
      "25%     6629.00000  157851.000000      0.600000      5.000000      2.000000\n",
      "50%    13258.00000  309581.000000      1.374000      6.000000      5.000000\n",
      "75%    19887.00000  419542.000000      3.694000      7.000000     28.000000\n",
      "max    26516.00000  608444.000000     80.773000     10.000000  22186.000000\n",
      "\n",
      "Missing values:\n",
      "\n",
      "Unnamed: 0           0\n",
      "genre_ids            0\n",
      "id                   0\n",
      "original_language    0\n",
      "original_title       0\n",
      "popularity           0\n",
      "release_date         0\n",
      "title                0\n",
      "vote_average         0\n",
      "vote_count           0\n",
      "dtype: int64\n",
      "\n",
      "*******************\n",
      "\n",
      "\n",
      "Dataframe tn_movie_budgets:\n",
      "\n",
      "\n",
      "Data types:\n",
      "\n",
      "id                    int64\n",
      "release_date         object\n",
      "movie                object\n",
      "production_budget    object\n",
      "domestic_gross       object\n",
      "worldwide_gross      object\n",
      "dtype: object\n",
      "\n",
      "Descriptive stats:\n",
      "\n",
      "                id\n",
      "count  5782.000000\n",
      "mean     50.372363\n",
      "std      28.821076\n",
      "min       1.000000\n",
      "25%      25.000000\n",
      "50%      50.000000\n",
      "75%      75.000000\n",
      "max     100.000000\n",
      "\n",
      "Missing values:\n",
      "\n",
      "id                   0\n",
      "release_date         0\n",
      "movie                0\n",
      "production_budget    0\n",
      "domestic_gross       0\n",
      "worldwide_gross      0\n",
      "dtype: int64\n",
      "\n",
      "*******************\n"
     ]
    }
   ],
   "source": [
    "for k in files.keys():\n",
    "    print(f\"\\n\\nDataframe {k}:\\n\")\n",
    "    \n",
    "    print(\"\\nData types:\\n\")\n",
    "    print(dfs[k].dtypes)  \n",
    "    \n",
    "    print(\"\\nDescriptive stats:\\n\")\n",
    "    print(dfs[k].describe())\n",
    "    \n",
    "    print(\"\\nMissing values:\\n\")\n",
    "    print(dfs[k].isna().sum())  \n",
    "    print(\"\\n*******************\")"
   ]
  },
  {
   "cell_type": "markdown",
   "metadata": {},
   "source": [
    "### Join movies with related data"
   ]
  },
  {
   "cell_type": "code",
   "execution_count": 5,
   "metadata": {
    "scrolled": false
   },
   "outputs": [],
   "source": [
    "imdb_titles_ratings = pd.merge(dfs['imdb_title_akas'], \n",
    "                   dfs['imdb_title_ratings'],\n",
    "                   left_on=  ['title_id'],\n",
    "                   right_on= ['tconst'], \n",
    "                   how = 'inner')\n",
    "\n",
    "df_imdb = pd.merge(imdb_titles_ratings,\n",
    "                   dfs['imdb_title_basics'],\n",
    "                   left_on=  ['tconst'],\n",
    "                   right_on= ['tconst'], \n",
    "                   how = 'inner')\n",
    "\n",
    "df_imdb['year'] = df_imdb['start_year']\n",
    "\n",
    "df_imdb = df_imdb[['title_id', 'year', 'title','averagerating', 'runtime_minutes', 'genres']]"
   ]
  },
  {
   "cell_type": "markdown",
   "metadata": {},
   "source": [
    "Clean up the financial datasets"
   ]
  },
  {
   "cell_type": "code",
   "execution_count": 6,
   "metadata": {},
   "outputs": [],
   "source": [
    "df_tn_budgets = dfs['tn_movie_budgets']\n",
    "\n",
    "dollar_amts = ['production_budget', 'domestic_gross', 'worldwide_gross']\n",
    "for d in dollar_amts:\n",
    "    df_tn_budgets[d] = df_tn_budgets.apply(lambda row: int(row[d].replace('$','').replace(',','')), axis=1)\n",
    "    \n",
    "df_tn_budgets['foreign_gross'] = df_tn_budgets['worldwide_gross'] - df_tn_budgets['domestic_gross']\n",
    "\n",
    "df_bom = dfs['bom_movie_gross']\n",
    "df_bom.dropna(inplace=True)\n",
    "df_bom['foreign_gross'] = df_bom.apply(\n",
    "    lambda row: float(row['foreign_gross'].replace('$','').replace(',','')\n",
    "    ), axis=1)\n",
    "\n"
   ]
  },
  {
   "cell_type": "markdown",
   "metadata": {},
   "source": [
    "We have two separate datasets with movie financial data. Do these figures differ by more than 1% for any given movie?"
   ]
  },
  {
   "cell_type": "code",
   "execution_count": 7,
   "metadata": {},
   "outputs": [
    {
     "name": "stdout",
     "output_type": "stream",
     "text": [
      "domestic: 1.0\n",
      "foreign: 1.0\n"
     ]
    }
   ],
   "source": [
    "df_financials = pd.merge(df_bom,\n",
    "                   df_tn_budgets,\n",
    "                   left_on= ['title'],\n",
    "                   right_on= ['movie'], \n",
    "                   how = 'inner',\n",
    "                 suffixes=('_bom', '_tn'))\n",
    "\n",
    "\n",
    "df_financials['test_domestic'] = df_financials.apply(lambda row: \\\n",
    "                                                    (row['domestic_gross_bom'] <= row['domestic_gross_tn']*1.01) or \\\n",
    "                                                    (row['domestic_gross_bom'] >= row['domestic_gross_tn']*0.99),\\\n",
    "                                                    axis=1)\n",
    "\n",
    "df_financials['test_foreign'] = df_financials.apply(lambda row: \\\n",
    "                                                    (float(row['foreign_gross_bom']) <= row['foreign_gross_tn']*1.01) or \\\n",
    "                                                    (float(row['foreign_gross_bom']) >= row['foreign_gross_tn']*0.99),\\\n",
    "                                                    axis=1)\n",
    "\n",
    "domestic_inconsistency = df_financials['test_domestic'].sum() / df_financials['test_domestic'].count()\n",
    "foreign_inconsistency = df_financials['test_foreign'].sum() / df_financials['test_foreign'].count()\n",
    "\n",
    "print(f\"domestic: {domestic_inconsistency}\\nforeign: {foreign_inconsistency}\")\n",
    "\n"
   ]
  },
  {
   "cell_type": "markdown",
   "metadata": {},
   "source": [
    "Clean and retain the relevant financial data:"
   ]
  },
  {
   "cell_type": "code",
   "execution_count": 8,
   "metadata": {},
   "outputs": [
    {
     "data": {
      "text/html": [
       "<div>\n",
       "<style scoped>\n",
       "    .dataframe tbody tr th:only-of-type {\n",
       "        vertical-align: middle;\n",
       "    }\n",
       "\n",
       "    .dataframe tbody tr th {\n",
       "        vertical-align: top;\n",
       "    }\n",
       "\n",
       "    .dataframe thead th {\n",
       "        text-align: right;\n",
       "    }\n",
       "</style>\n",
       "<table border=\"1\" class=\"dataframe\">\n",
       "  <thead>\n",
       "    <tr style=\"text-align: right;\">\n",
       "      <th></th>\n",
       "      <th>title</th>\n",
       "      <th>year</th>\n",
       "      <th>foreign_profit_in_millions</th>\n",
       "      <th>domestic_profit_in_millions</th>\n",
       "      <th>worldwide_profit_in_millions</th>\n",
       "    </tr>\n",
       "  </thead>\n",
       "  <tbody>\n",
       "    <tr>\n",
       "      <th>0</th>\n",
       "      <td>Toy Story 3</td>\n",
       "      <td>2010</td>\n",
       "      <td>453.87</td>\n",
       "      <td>215.00</td>\n",
       "      <td>868.88</td>\n",
       "    </tr>\n",
       "    <tr>\n",
       "      <th>1</th>\n",
       "      <td>Inception</td>\n",
       "      <td>2010</td>\n",
       "      <td>382.95</td>\n",
       "      <td>132.58</td>\n",
       "      <td>675.52</td>\n",
       "    </tr>\n",
       "    <tr>\n",
       "      <th>2</th>\n",
       "      <td>Shrek Forever After</td>\n",
       "      <td>2010</td>\n",
       "      <td>352.51</td>\n",
       "      <td>73.74</td>\n",
       "      <td>591.24</td>\n",
       "    </tr>\n",
       "    <tr>\n",
       "      <th>3</th>\n",
       "      <td>The Twilight Saga: Eclipse</td>\n",
       "      <td>2010</td>\n",
       "      <td>337.57</td>\n",
       "      <td>232.53</td>\n",
       "      <td>638.10</td>\n",
       "    </tr>\n",
       "    <tr>\n",
       "      <th>4</th>\n",
       "      <td>Iron Man 2</td>\n",
       "      <td>2010</td>\n",
       "      <td>138.72</td>\n",
       "      <td>142.43</td>\n",
       "      <td>451.16</td>\n",
       "    </tr>\n",
       "  </tbody>\n",
       "</table>\n",
       "</div>"
      ],
      "text/plain": [
       "                        title  year  foreign_profit_in_millions  \\\n",
       "0                 Toy Story 3  2010                      453.87   \n",
       "1                   Inception  2010                      382.95   \n",
       "2         Shrek Forever After  2010                      352.51   \n",
       "3  The Twilight Saga: Eclipse  2010                      337.57   \n",
       "4                  Iron Man 2  2010                      138.72   \n",
       "\n",
       "   domestic_profit_in_millions  worldwide_profit_in_millions  \n",
       "0                       215.00                        868.88  \n",
       "1                       132.58                        675.52  \n",
       "2                        73.74                        591.24  \n",
       "3                       232.53                        638.10  \n",
       "4                       142.43                        451.16  "
      ]
     },
     "execution_count": 8,
     "metadata": {},
     "output_type": "execute_result"
    }
   ],
   "source": [
    "df_financials['worldwide_gross'] = df_financials['foreign_gross_tn'] + df_financials['domestic_gross_tn']\n",
    "df_financials['foreign_profit_in_millions'] = round((df_financials['foreign_gross_tn'] - df_financials['production_budget'])/1000000,2)\n",
    "df_financials['domestic_profit_in_millions'] = round((df_financials['domestic_gross_tn'] - df_financials['production_budget'])/1000000,2)\n",
    "df_financials['worldwide_profit_in_millions'] = round((df_financials['worldwide_gross'] - df_financials['production_budget'])/1000000,2)\n",
    "\n",
    "df_financials = df_financials[[\n",
    "    'title',\n",
    "    'year',\n",
    "    'foreign_profit_in_millions',\n",
    "    'domestic_profit_in_millions',\n",
    "    'worldwide_profit_in_millions'\n",
    "]]\n",
    "df_financials.head()"
   ]
  },
  {
   "cell_type": "markdown",
   "metadata": {},
   "source": [
    "Add the financial data from one dataset to our movies dataset, using the financial dataset that also includes release date:"
   ]
  },
  {
   "cell_type": "code",
   "execution_count": 9,
   "metadata": {},
   "outputs": [
    {
     "data": {
      "text/html": [
       "<div>\n",
       "<style scoped>\n",
       "    .dataframe tbody tr th:only-of-type {\n",
       "        vertical-align: middle;\n",
       "    }\n",
       "\n",
       "    .dataframe tbody tr th {\n",
       "        vertical-align: top;\n",
       "    }\n",
       "\n",
       "    .dataframe thead th {\n",
       "        text-align: right;\n",
       "    }\n",
       "</style>\n",
       "<table border=\"1\" class=\"dataframe\">\n",
       "  <thead>\n",
       "    <tr style=\"text-align: right;\">\n",
       "      <th></th>\n",
       "      <th>year</th>\n",
       "      <th>title</th>\n",
       "      <th>averagerating</th>\n",
       "      <th>runtime_minutes</th>\n",
       "      <th>genres</th>\n",
       "      <th>foreign_profit_in_millions</th>\n",
       "      <th>domestic_profit_in_millions</th>\n",
       "      <th>worldwide_profit_in_millions</th>\n",
       "    </tr>\n",
       "    <tr>\n",
       "      <th>title_id</th>\n",
       "      <th></th>\n",
       "      <th></th>\n",
       "      <th></th>\n",
       "      <th></th>\n",
       "      <th></th>\n",
       "      <th></th>\n",
       "      <th></th>\n",
       "      <th></th>\n",
       "    </tr>\n",
       "  </thead>\n",
       "  <tbody>\n",
       "    <tr>\n",
       "      <th>tt0369610</th>\n",
       "      <td>2015</td>\n",
       "      <td>Jurassic World</td>\n",
       "      <td>7.0</td>\n",
       "      <td>124.0</td>\n",
       "      <td>Action,Adventure,Sci-Fi</td>\n",
       "      <td>781.58</td>\n",
       "      <td>437.27</td>\n",
       "      <td>1433.85</td>\n",
       "    </tr>\n",
       "    <tr>\n",
       "      <th>tt0401729</th>\n",
       "      <td>2012</td>\n",
       "      <td>John Carter</td>\n",
       "      <td>6.6</td>\n",
       "      <td>132.0</td>\n",
       "      <td>Action,Adventure,Sci-Fi</td>\n",
       "      <td>-65.28</td>\n",
       "      <td>-201.94</td>\n",
       "      <td>7.78</td>\n",
       "    </tr>\n",
       "    <tr>\n",
       "      <th>tt1194173</th>\n",
       "      <td>2012</td>\n",
       "      <td>The Bourne Legacy</td>\n",
       "      <td>6.7</td>\n",
       "      <td>135.0</td>\n",
       "      <td>Action,Adventure,Thriller</td>\n",
       "      <td>42.15</td>\n",
       "      <td>-11.80</td>\n",
       "      <td>155.36</td>\n",
       "    </tr>\n",
       "    <tr>\n",
       "      <th>tt1219289</th>\n",
       "      <td>2011</td>\n",
       "      <td>Limitless</td>\n",
       "      <td>7.4</td>\n",
       "      <td>105.0</td>\n",
       "      <td>Mystery,Sci-Fi,Thriller</td>\n",
       "      <td>49.32</td>\n",
       "      <td>52.25</td>\n",
       "      <td>128.56</td>\n",
       "    </tr>\n",
       "    <tr>\n",
       "      <th>tt1294226</th>\n",
       "      <td>2010</td>\n",
       "      <td>The Last Song</td>\n",
       "      <td>6.0</td>\n",
       "      <td>107.0</td>\n",
       "      <td>Drama,Music,Romance</td>\n",
       "      <td>9.73</td>\n",
       "      <td>42.95</td>\n",
       "      <td>72.68</td>\n",
       "    </tr>\n",
       "  </tbody>\n",
       "</table>\n",
       "</div>"
      ],
      "text/plain": [
       "           year              title  averagerating  runtime_minutes  \\\n",
       "title_id                                                             \n",
       "tt0369610  2015     Jurassic World            7.0            124.0   \n",
       "tt0401729  2012        John Carter            6.6            132.0   \n",
       "tt1194173  2012  The Bourne Legacy            6.7            135.0   \n",
       "tt1219289  2011          Limitless            7.4            105.0   \n",
       "tt1294226  2010      The Last Song            6.0            107.0   \n",
       "\n",
       "                              genres  foreign_profit_in_millions  \\\n",
       "title_id                                                           \n",
       "tt0369610    Action,Adventure,Sci-Fi                      781.58   \n",
       "tt0401729    Action,Adventure,Sci-Fi                      -65.28   \n",
       "tt1194173  Action,Adventure,Thriller                       42.15   \n",
       "tt1219289    Mystery,Sci-Fi,Thriller                       49.32   \n",
       "tt1294226        Drama,Music,Romance                        9.73   \n",
       "\n",
       "           domestic_profit_in_millions  worldwide_profit_in_millions  \n",
       "title_id                                                              \n",
       "tt0369610                       437.27                       1433.85  \n",
       "tt0401729                      -201.94                          7.78  \n",
       "tt1194173                       -11.80                        155.36  \n",
       "tt1219289                        52.25                        128.56  \n",
       "tt1294226                        42.95                         72.68  "
      ]
     },
     "execution_count": 9,
     "metadata": {},
     "output_type": "execute_result"
    }
   ],
   "source": [
    "df_movies = df_imdb.merge(df_financials, on=['year', 'title'])\n",
    "\n",
    "df_movies = df_movies.drop_duplicates(subset='title_id', keep=\"first\")\n",
    "df_movies.set_index('title_id', inplace=True)\n",
    "\n",
    "df_movies.head()\n"
   ]
  },
  {
   "cell_type": "markdown",
   "metadata": {},
   "source": [
    "### Question 1: Do multi-genre movies earn more profit on average than single-genre movies?"
   ]
  },
  {
   "cell_type": "code",
   "execution_count": 10,
   "metadata": {
    "scrolled": true
   },
   "outputs": [
    {
     "data": {
      "text/plain": [
       "Text(0, 0.5, 'Number of genres')"
      ]
     },
     "execution_count": 10,
     "metadata": {},
     "output_type": "execute_result"
    },
    {
     "data": {
      "image/png": "[encoded data removed]",
      "text/plain": [
       "<Figure size 432x288 with 1 Axes>"
      ]
     },
     "metadata": {
      "needs_background": "light"
     },
     "output_type": "display_data"
    }
   ],
   "source": [
    "df_genres = df_movies.loc[df_movies['genres'].notna()]\n",
    "df_genres['num_genres'] = df_genres.apply(lambda row: len(row['genres'].split(',')), axis=1)\n",
    "df_genres = df_genres[['worldwide_profit_in_millions', 'num_genres']]\n",
    "df_genres = df_genres.groupby('num_genres').mean()\n",
    "\n",
    "df_genres.plot(kind=\"barh\", legend=False)\n",
    "plt.title(\"Worldwide profit in millions (USD) by number of genres\")\n",
    "plt.xlabel(\"Worldwide profit in millions (USD)\")\n",
    "plt.ylabel(\"Number of genres\")\n",
    "\n"
   ]
  },
  {
   "cell_type": "markdown",
   "metadata": {},
   "source": [
    "### Question 2: Does profit vary by runtime and audience type (domestic/foreign)?"
   ]
  },
  {
   "cell_type": "code",
   "execution_count": 11,
   "metadata": {
    "scrolled": true
   },
   "outputs": [
    {
     "data": {
      "text/plain": [
       "Text(0.5, 0, 'Profit in millions (USD)')"
      ]
     },
     "execution_count": 11,
     "metadata": {},
     "output_type": "execute_result"
    },
    {
     "data": {
      "image/png": "[encoded data removed]",
      "text/plain": [
       "<Figure size 432x288 with 1 Axes>"
      ]
     },
     "metadata": {
      "needs_background": "light"
     },
     "output_type": "display_data"
    }
   ],
   "source": [
    "df_runtime = df_movies.loc[df_movies['runtime_minutes'].notna()]\n",
    "df_runtime['over_90_mins'] = df_runtime.apply(lambda row: row['runtime_minutes'] > 90, axis=1)\n",
    "\n",
    "df_runtime_worldwide = df_runtime[['worldwide_profit_in_millions', 'over_90_mins']]\n",
    "df_runtime_worldwide = df_runtime_worldwide.groupby('over_90_mins').mean()\n",
    "\n",
    "df_runtime_worldwide.plot(kind=\"barh\")\n",
    "plt.title(\"Profit in millions (USD) by audience and runtime\")\n",
    "plt.ylabel(\"90min+ runtime\")\n",
    "plt.xlabel(\"Profit in millions (USD)\")\n"
   ]
  },
  {
   "cell_type": "code",
   "execution_count": 12,
   "metadata": {},
   "outputs": [
    {
     "data": {
      "text/plain": [
       "worldwide_profit_in_millions    65.52\n",
       "dtype: float64"
      ]
     },
     "execution_count": 12,
     "metadata": {},
     "output_type": "execute_result"
    }
   ],
   "source": [
    "ratio_worldwide = round(df_runtime_worldwide.iloc[0] / df_runtime_worldwide.iloc[1] * 100, 2)\n",
    "ratio_worldwide\n"
   ]
  },
  {
   "cell_type": "code",
   "execution_count": 16,
   "metadata": {},
   "outputs": [
    {
     "data": {
      "image/png": "[encoded data removed]",
      "text/plain": [
       "<Figure size 432x288 with 1 Axes>"
      ]
     },
     "metadata": {
      "needs_background": "light"
     },
     "output_type": "display_data"
    }
   ],
   "source": [
    "df_runtime_by_audience = df_runtime[['domestic_profit_in_millions', 'foreign_profit_in_millions', 'over_90_mins']]\n",
    "df_runtime_by_audience = df_runtime_by_audience.groupby('over_90_mins').mean()\n",
    "\n",
    "df_runtime_by_audience.plot(kind=\"barh\")\n",
    "plt.title(\"Profit in millions (USD) by audience and runtime\")\n",
    "plt.ylabel(\"90min+ runtime\")\n",
    "plt.xlabel(\"Profit in millions (USD)\")\n",
    "plt.legend([\"Domestic\", \"Foreign\"]);\n"
   ]
  },
  {
   "cell_type": "code",
   "execution_count": 14,
   "metadata": {},
   "outputs": [
    {
     "name": "stdout",
     "output_type": "stream",
     "text": [
      "Ratio of <= 90mins to 90min+ :\n",
      "   Domestic: 79.33\n",
      "   Foreign: 69.5\n"
     ]
    }
   ],
   "source": [
    "ratio_domestic = round(df_runtime_by_audience.iloc[0][0] / df_runtime_by_audience.iloc[1][0] * 100, 2)\n",
    "ratio_foreign = round(df_runtime_by_audience.iloc[0][1] / df_runtime_by_audience.iloc[1][1] * 100, 2)\n",
    "print(f\"Ratio of <= 90mins to 90min+ :\")\n",
    "print(f\"   Domestic: {ratio_domestic}\")\n",
    "print(f\"   Foreign: {ratio_foreign}\")"
   ]
  },
  {
   "cell_type": "markdown",
   "metadata": {},
   "source": [
    "### Question 3: How do the 10 highest profit movies compare in terms of their relationship between rating and profit? "
   ]
  },
  {
   "cell_type": "code",
   "execution_count": 15,
   "metadata": {},
   "outputs": [
    {
     "data": {
      "image/png": "[encoded data removed]",
      "text/plain": [
       "<Figure size 576x360 with 1 Axes>"
      ]
     },
     "metadata": {
      "needs_background": "light"
     },
     "output_type": "display_data"
    }
   ],
   "source": [
    "top_10 = df_movies.nlargest(10, ['worldwide_profit_in_millions'])\n",
    "\n",
    "# Abbreviate for readability\n",
    "top_10['title'] = top_10['title'].replace('Avengers: Age of Ultron', 'Av. Ultron')\n",
    "\n",
    "\n",
    "fig, ax = plt.subplots(figsize=(8,5))\n",
    "top_10.plot('worldwide_profit_in_millions', 'averagerating', kind='scatter', ax=ax)\n",
    "\n",
    "for index, row in top_10.iterrows():\n",
    "    ax.annotate(\n",
    "        str(row['title']), \n",
    "        (row['worldwide_profit_in_millions'], row['averagerating']),\n",
    "        xytext=(-5,5), textcoords='offset points',\n",
    "                family='sans-serif', fontsize=8\n",
    "    )\n"
   ]
  },
  {
   "cell_type": "markdown",
   "metadata": {},
   "source": [
    "# Sources\n",
    "https://www.shanelynn.ie/`bar-plots-in-python-using-pandas-dataframes/#dataframeplotbar\n",
    "https://cmdlinetips.com/2020/06/pandas-explode-convert-list-like-column-elements-to-separate-rows/"
   ]
  }
 ],
 "metadata": {
  "kernelspec": {
   "display_name": "Python 3",
   "language": "python",
   "name": "python3"
  },
  "language_info": {
   "codemirror_mode": {
    "name": "ipython",
    "version": 3
   },
   "file_extension": ".py",
   "mimetype": "text/x-python",
   "name": "python",
   "nbconvert_exporter": "python",
   "pygments_lexer": "ipython3",
   "version": "3.7.3"
  }
 },
 "nbformat": 4,
 "nbformat_minor": 2
}
